{
 "cells": [
  {
   "cell_type": "markdown",
   "id": "8c7d68eb-f957-4e21-8632-74b01147a07c",
   "metadata": {},
   "source": [
    "Scientists want to do \"informative\" experiments. What makes an experiment informative? I believe that information theory has a lot of answers. In this post I will try to explain information theory's definition of \"how much information you get from an experiment\" using d20 dice, assuming no previous knowledge of information theory.\n",
    "<!-- TEASER_END -->\n",
    "\n",
    "<div class=\"alert alert-info\">\n",
    "A tutorial like this has been on my writing list for a while now,\n",
    "and today I decided to just GET IT DONE, so I made it into a \"quickpost\".\n",
    "The quality is not quite as good as I hoped, but I think it is still better than nothing.\n",
    "For more details on quickposts, see <a\n",
    "href=\"/blog/2025-02-11-lowering-quality/\">this blog post</a>.\n",
    "</div>\n",
    "\n",
    "## Intuition pump: a hidden d20 dice\n",
    "\n",
    "The running scenario in this post will be a d20 (aka a fair 20-sided dice) which is rolled in secret (so you do not know the number).\n",
    "We are trying to learn about the outcome of the dice.\n",
    "\n",
    "Suppose I told you that this number is odd. Does that provide information?\n",
    "Even though you still don't \"know\" the value of the dice with certainty,\n",
    "your intuitive answer is probably \"yes\".\n",
    "For example, you now know that the number is not \"2\", which you didn't know before.\n",
    "\n",
    "Now for a more complex scenario. A second d20 is rolled. If the number is a \"20\",\n",
    "this second d20 is rolled _again_ and you are told _that_ number.\n",
    "Otherwise, you are told the number from the original dice.\n",
    "Essentially this means you are told the secret number with 95% probability,\n",
    "but with 5% probability you are told a random number. Is this informative?\n",
    "\n",
    "Here I expect intuitions to be more mixed. On the one hand,\n",
    "you are 95% certain to learn the true outcome of the dice.\n",
    "On the other hand, you can never _eliminate_ any number:\n",
    "if you hear the number \"15\" the true number could still be _anything_.\n",
    "\n",
    "**By the end of this post** you will know that _both_ of these experiments _do_ provide\n",
    "information, and in fact the second experiment is _more_ informative than the first one.\n",
    "\n",
    "---\n",
    "\n",
    "Below is some code which will be used to define the \"experiments\" on dice.\n",
    "\n",
    "**NOTE**: this blog post is a runnable jupyter notebook.\n",
    "Even though the text in this notebook assumes a d20,\n",
    "you can change the size of the dice freely by setting the `D` variable below!"
   ]
  },
  {
   "cell_type": "code",
   "execution_count": 1,
   "id": "3e4ae50b-c489-407f-bb05-6d618e7a367a",
   "metadata": {},
   "outputs": [],
   "source": [
    "D = 20  # Change as desired, but D ≠ 20 will mean the numbers in text won't match the numbers from the code\n",
    "DICE_OUTCOMES = list(range(1, D+1))\n",
    "\n",
    "from collections import defaultdict, Counter\n",
    "from typing import Any, Callable\n",
    "import numpy as np\n",
    "from matplotlib import pyplot as plt\n",
    "\n",
    "# Some useful functions for later\n",
    "def is_prime(n):\n",
    "    return n > 1 and not any( (n%i) == 0 for i in range(2, int(n/2 + 1)))\n",
    "\n",
    "def is_even(n):\n",
    "    return (n%2) == 0\n",
    "\n",
    "def prior_prob(f):\n",
    "    return sum(1 for n in DICE_OUTCOMES if f(n)) / len(DICE_OUTCOMES)"
   ]
  },
  {
   "cell_type": "markdown",
   "id": "9c57fe8b-3a36-44cd-ad5d-252e37fb2885",
   "metadata": {},
   "source": [
    "## Definition information\n",
    "\n",
    "The \"information\" of a random outcome is defined as the (base 2) logarithm of its probability of occuring.\n",
    "\n",
    "$$I(X=x) = -\\log_2 P(X=x)$$\n",
    "\n",
    "Information is measured in _bits_. Here are some examples:"
   ]
  },
  {
   "cell_type": "code",
   "execution_count": 2,
   "id": "fc9d5a37-daf2-4763-8858-ea30bf633569",
   "metadata": {},
   "outputs": [
    {
     "name": "stdout",
     "output_type": "stream",
     "text": [
      "1. I(x is even): -log2(1/2) = 1.0 bits\n",
      "2. I(x is prime): there are 8 primes in [1, 20] -log2(8/20) ≈ 1.32 bits\n",
      "3. I(x is between 1 and 20): -log2(1) = 0.00 bits\n",
      "4. I(dice is 20): -log2(1/20) ≈ 4.32 bits\n"
     ]
    }
   ],
   "source": [
    "def information(p):\n",
    "    I = -np.log2(p)\n",
    "    return np.maximum(I, 0.0)  # this is just for numerical errors\n",
    "\n",
    "print(f\"1. I(x is even): -log2(1/2) = {information(prior_prob(is_even))} bits\")\n",
    "print(f\"2. I(x is prime): there are 8 primes in [1, 20] -log2(8/20) ≈ {information(prior_prob(is_prime)):.2f} bits\")\n",
    "print(f\"3. I(x is between 1 and 20): -log2(1) = {information(prior_prob(lambda x: 1 <= x <= 20)):.2f} bits\")\n",
    "print(f\"4. I(dice is 20): -log2(1/20) ≈ {information(prior_prob(lambda x: x == 20)):.2f} bits\")"
   ]
  },
  {
   "attachments": {},
   "cell_type": "markdown",
   "id": "7661d853-7da9-41af-abd2-f45bde955e01",
   "metadata": {},
   "source": [
    "Hopefully these examples make a few things clear:\n",
    "\n",
    "- Rarer outcomes contain a higher amount of information\n",
    "- Because probabilities are always ≤ 1, $I(x)$ is never negative\n",
    "- The smallest amount of information is 0, which occurs for a _certain_ outcome (hopefully this makes intuitive sense)\n",
    "\n",
    "## Some statistical definitions and notation\n",
    "\n",
    "Unfortunately, before proceeding any further it is necessary to clarify some notation and definitions. Please bear with me:\n",
    "as you will see below, information depends on exactly what you know, don't know, and want to know. These are easily confused, and to reduce confusion I will stick to some very standard terms.\n",
    "\n",
    "- **Random variables**: capital letters like $X,Y,Z$ will be used for _random variables_: variables which do not have a particular value.\n",
    "- **The dice variable N**: from now on, the random variable $N$ will denote the _number on the dice_ (a value between 1 and 20).\n",
    "- **Outcomes vs events**: an _outcome_ is a particular value of a random variable, and an _event_ is a _set_ of outcomes. These are not the same. In this post we will frequently learn about _events_. For example, learning that \"the dice is even\" means $N$ is in the set {2, 4, 6, 8, 10, 12, 14, 16, 18, 20}.\n",
    "- **Other random variables**: information is a function of _outcomes_ only, _not_ events. To represent events like \"the dice is even\", we will define a _new_ random variable with a name like $X$ with a different set of possible outcomes (like {True, False} instead of {1, 2, ..., 20}. In most cases $X$ will be a deterministic function of $N$, but not always. In these cases, an _outcome_ of $X$ is equivalent to an _event_ in $N$.\n",
    "\n",
    "## Entropy is _average_ information\n",
    "\n",
    "The definition above allows you to quantify the information of an outcome _once you have learned it_.\n",
    "The natural extension of information to _unknown_ outcomes is entropy, which is just the average amount of information you expect to obtain by observing a random variable $X$.\n",
    "\n",
    "$$H(X) = \\sum_{\\text{outcomes }x} P(X=x) I(X=x) = -\\sum_x P(X=x)\\log_2{P(X=x)}$$\n",
    "\n",
    "Notice that $H$ is a function of _a random variable_ (capital $X$), rather than a particular outcome. This is because all outcomes of $X$ (denoted with lowercase $x$) are _summed_.\n",
    "Let's revisit the same examples as above."
   ]
  },
  {
   "cell_type": "code",
   "execution_count": 3,
   "id": "5d664a31-7fa8-4b10-b135-639e6988e93a",
   "metadata": {},
   "outputs": [
    {
     "name": "stdout",
     "output_type": "stream",
     "text": [
      "1. H(x is even): -P(even)log2(P(even) - P(odd)log2(P(odd)) = -log2(1/2) = 1.0 bits\n",
      "2. H(x is prime):                -(8/20)log2(8/20) - (12/20)log2(12/20) ≈ 0.97 bits\n",
      "3. H(x is between 1 and 20):                                 = -log2(1) = 0.00 bits\n"
     ]
    }
   ],
   "source": [
    "def entropy(prob_dist: dict[Any, float]) -> float:\n",
    "    \"\"\"Compute entropy of a probability distribution\"\"\"\n",
    "    probs = np.array(list(prob_dist.values()))\n",
    "    assert np.isclose(probs.sum(), 1)\n",
    "    probs = probs[probs > 0]  # Remove zero probabilities\n",
    "    H = -np.sum(probs * np.log2(probs))\n",
    "    return np.maximum(H, 0.0)  # for numerical errors\n",
    "\n",
    "def function_to_prob_dict(f) -> dict[Any, float]:\n",
    "    c = Counter([f(n) for n in DICE_OUTCOMES])\n",
    "    return {outcome: count/D for outcome, count in c.items()}\n",
    "\n",
    "print(f\"1. H(x is even): -P(even)log2(P(even) - P(odd)log2(P(odd)) = -log2(1/2) = {entropy(function_to_prob_dict(is_even))} bits\")\n",
    "print(f\"2. H(x is prime):                -(8/20)log2(8/20) - (12/20)log2(12/20) ≈ {entropy(function_to_prob_dict(is_prime)):.2f} bits\")\n",
    "print(f\"3. H(x is between 1 and 20):                                 = -log2(1) = {entropy(function_to_prob_dict(lambda x: 1 <= x <= 20)):.2f} bits\")"
   ]
  },
  {
   "cell_type": "markdown",
   "id": "d67988a4-06b2-4fde-888b-decb2ae1246c",
   "metadata": {},
   "source": [
    "However, example #4 (\"dice is 20\") is more subtle because it can be interpreted as the outcome of multiple different random variables.\n",
    "The choice of variable will give different entropy values.\n",
    "Here are some examples:"
   ]
  },
  {
   "cell_type": "code",
   "execution_count": 4,
   "id": "1797757e-47bd-4dd3-846a-7f85b5722d96",
   "metadata": {},
   "outputs": [
    {
     "name": "stdout",
     "output_type": "stream",
     "text": [
      "4. H(x = 20)\n",
      "    a: X=N (the exact value of the dice):   H(X) ≈ 4.32 bits\n",
      "    b: X=1 if N=20, otherwise 0:            H(X) ≈ 0.29 bits\n",
      "    c: X=1 if N=20, 2 if N=10, otherwise 0: H(X) ≈ 0.57 bits\n",
      "    d: ...\n"
     ]
    }
   ],
   "source": [
    "print(\"4. H(x = 20)\")\n",
    "print(f\"    a: X=N (the exact value of the dice):   H(X) ≈ {entropy(function_to_prob_dict(lambda x: x)):.2f} bits\")\n",
    "print(f\"    b: X=1 if N=20, otherwise 0:            H(X) ≈ {entropy(function_to_prob_dict(lambda x: 1 if x == 20 else 0)):.2f} bits\")\n",
    "print(f\"    c: X=1 if N=20, 2 if N=10, otherwise 0: H(X) ≈ {entropy(function_to_prob_dict(lambda x: {20: 1, 10: 2}.get(x, 0))):.2f} bits\")\n",
    "print(\"    d: ...\")"
   ]
  },
  {
   "cell_type": "markdown",
   "id": "897b9f2b-d3fd-43bf-a17e-7ece060b238e",
   "metadata": {},
   "source": [
    "This might feel counter-intuitive, since observing a value of 20 is the same in all cases.\n",
    "The difference in entropy values is because _you do not know in advance whether you will observe a value of 20_!\n",
    "Other observations will rule out this outcome. For example, in 4b you have a 19/20 chance of observing $X=0$ (aka \"the dice is any value besides 20\"). This is a very low-information outcome (≈0.07 bits), but is sufficient to deduce that the value is not 20.\n",
    "In the other scenarios (4a or 4c) the other outcomes also rule out a value of 20, but are higher-information outcomes.\n",
    "\n",
    "## Intuitively, entropy an information \"requirement\"\n",
    "\n",
    "I've introduced entropy as an \"average amount of information\",\n",
    "but intuitively it is a measure of _uncertainty_ about a variable.\n",
    "The higher the entropy is, the more uncertain you are about a variable,\n",
    "and therefore the more information you will _need_ to determine its value.\n",
    "If you want to know something, high entropy is _bad_.\n",
    "\n",
    "## Observations can change entropy\n",
    "\n",
    "Let's re-use the random variable X from example 4b: $X=1$ if $N=20$, otherwise $X=0$.\n",
    "We will introduce a _second_ random variable $Y$ to represent if $N$ is even: $Y=1$ if $N$ is even, otherwise $Y=0$.\n",
    "Suppose we observe $Y=1$. How much information do we _gain_ about $X$?\n",
    "\n",
    "We previously established that, without knowing $Y$, $H(X)\\approx 0.29$ bits.\n",
    "This value comes from the formula:\n",
    "\n",
    "$$-P(X=1)\\log_2{P(X=1)} - P(X=0)\\log_2{P(X=0)} = -\\frac{1}{20}\\log_2{\\frac{1}{20}} -\\frac{19}{20}\\log_2{\\frac{19}{20}}\\approx 0.29$$\n",
    "\n",
    "\n",
    "Observing $Y=1$ rules out all odd values, of which there are 10. Therefore, _conditioned_ on this outcome, the probability of $N=20$ rises from 1/20 to 1/10. Hence, the new entropy of $X$ is:\n",
    "\n",
    "$$H(X|Y=1) = -P(X=1|Y=1)\\log_2{P(X=1|Y=1)} - P(X=0|Y=1)\\log_2{P(X=0|Y=1)} = -\\frac{1}{10}\\log_2{\\frac{1}{10}} -\\frac{9}{10}\\log_2{\\frac{9}{10}}\\approx 0.47$$\n",
    "\n",
    "This is _higher_ than before: after this observation we are _more_ uncertain about the value of X.\n",
    "This is reflected by the \"uncertainty reduction\" quantity:\n",
    "\n",
    "$$H(X) - H(X|Y=1) \\approx -0.18 \\ ,$$\n",
    "\n",
    "whose negative value means we have become ≈0.18 bits _less_ certain about X.\n",
    "\n",
    "Consider however the other case, where we observe $Y=0$. In this case, $N$ is odd, so we know $N\\neq 20$, implying $P(X=1)=0$. This means $X$ is known with certainty. In this case:\n",
    "\n",
    "$$H(X|Y=0)= -0\\times\\log_2{0} -1\\times\\log_2{1}=0 \\ , $$\n",
    "\n",
    "so $H(X) - H(X|Y=0) = H(X) \\approx 0.29$, implying _complete elimination of uncertainty in X_.\n",
    "\n",
    "## Mutual information: the main measure of uncertainty reduction and information gain\n",
    "\n",
    "Both the measurements above are _ex-post_ values: the change in uncertainty after a particular observation.\n",
    "If we are choosing whether to observe $Y$, we do not know what we will observe!\n",
    "Similar to the definition of entropy, we will define an _average_ value of uncertainty reduction.\n",
    "\n",
    "$$I(X;Y) = \\mathbb E_{y\\sim P(Y)} \\left [ H(X) - H(X|Y=y) \\right]$$\n",
    "\n",
    "Since $H(X)$ does not depend on $Y$, this can be simplified to\n",
    "\n",
    "$$H(X) - \\mathbb E_{y\\sim P(Y)} \\left [ H(X|Y=y) \\right]\\ .$$\n",
    "\n",
    "This quantity is called _mutual information_. It turns out that mutual information is _never_ negative, which we can verify for the example above:\n",
    "\n",
    "$$I(X;Y) = H(X) - \\left[P(Y=1) H(X|Y=1) + P(Y=0) H(X|Y=0) \\right] \\approx 0.29 - 0.5\\times (0.47) - 0.5\\times 0 \\approx 0.05$$\n",
    "\n",
    "Because of this, mutual information can be viewed as both an amount of \"uncertainty reduction\" or an amount of \"information gain\".\n",
    "\n",
    "## Exploring mutual information\n",
    "\n",
    "The remainder of this notebook will go through a bunch of case studies of mutual information using code.\n",
    "The function below implements mutual information in a slightly more complex way than what I explained above,\n",
    "allowing for random functions (eg observe the dice with 95% probability, otherwise a random value)."
   ]
  },
  {
   "cell_type": "code",
   "execution_count": 5,
   "id": "58c3355f-9586-4630-afec-2015c37223ce",
   "metadata": {},
   "outputs": [],
   "source": [
    "def dice_mutual_information(\n",
    "    f1: Callable[[int], dict[Any, float]],\n",
    "    f2: Callable[[int], dict[Any, float]],\n",
    "    dice_prob_dist: dict[Any, float] | None = None,\n",
    "    explain: bool = False,\n",
    ") -> float:\n",
    "    \"\"\"\n",
    "    Mutual information for two probabilistic functions of the dice value\n",
    "    (ie functions returning dict of outcome to probability dict).\n",
    "\n",
    "    dice_prob_dist is the probability of observing different dice values\n",
    "    (defaults to uniform).\n",
    "\n",
    "    NOTE: the implementation is different than the H(X) - H(X|Y) description above.\n",
    "    \"\"\"\n",
    "\n",
    "    # Call function and check values\n",
    "    f1_calls = {n: f1(n) for n in DICE_OUTCOMES}\n",
    "    f2_calls = {n: f2(n) for n in DICE_OUTCOMES}\n",
    "    for d in (f1_calls, f2_calls):\n",
    "        for outcome_to_probs in d.values():\n",
    "            assert np.isclose(sum(outcome_to_probs.values()), 1)\n",
    "\n",
    "    # Impute default dice probability distribution\n",
    "    if dice_prob_dist is None:\n",
    "        dice_prob_dict = {n: 1/len(DICE_OUTCOMES) for n in DICE_OUTCOMES}\n",
    "    assert np.isclose(sum(dice_prob_dict.values()), 1.0)\n",
    "\n",
    "    # Get set of unique outcomes to index the joint distribution\n",
    "    f1_outcomes = sorted({outcome for d in f1_calls.values() for outcome in d})\n",
    "    f2_outcomes = sorted({outcome for d in f2_calls.values() for outcome in d})\n",
    "\n",
    "    # Built full joint distribution over f1 and f2 outcomes\n",
    "    joint = np.zeros((len(f1_outcomes), len(f2_outcomes)))\n",
    "    for n in DICE_OUTCOMES:\n",
    "        for i1, x1 in enumerate(f1_outcomes):\n",
    "            for i2, x2 in enumerate(f2_outcomes):\n",
    "                joint[i1, i2] += (\n",
    "                    dice_prob_dict[n] * \n",
    "                    f1_calls[n].get(x1, 0.0) *\n",
    "                    f2_calls[n].get(x2, 0.0)\n",
    "                )\n",
    "    assert np.isclose(joint.sum(), 1.0)\n",
    "\n",
    "    # Get marginals\n",
    "    marginal_f1 = joint.sum(axis=1)\n",
    "    marginal_f2 = joint.sum(axis=0)\n",
    "    prod_of_marginals = np.outer(marginal_f1, marginal_f2)\n",
    "\n",
    "    # Compute KL-divergence\n",
    "    with np.errstate(divide=\"ignore\"):\n",
    "        log_term = np.log2(joint) - np.log2(prod_of_marginals)\n",
    "        log_term = np.nan_to_num(log_term, nan=0.0, posinf=0.0, neginf=0.0)\n",
    "    kl_terms = joint * log_term\n",
    "\n",
    "    # Overall MI\n",
    "    MI_value = max(\n",
    "        float(kl_terms.sum()),\n",
    "        0.0   # handle numerical errors\n",
    "    )\n",
    "    if explain:\n",
    "        def _arr_entropy(arr):\n",
    "            # Entropy of an array\n",
    "            arr = arr[arr > 0]\n",
    "            assert np.isclose(arr.sum(), 1)\n",
    "            return np.maximum(-np.sum(arr * np.log2(arr)), 0.0)\n",
    "        marginal_entropy = _arr_entropy(marginal_f1)\n",
    "        print(f\"Entropy of X1: {marginal_entropy:.4g} bits\")\n",
    "        mi_contribs = []\n",
    "        for i, f2_outcome in enumerate(f2_outcomes):\n",
    "            p_f2 = joint[:, i].sum()\n",
    "            print(f\"\\tCase X2={f2_outcome}:\\n\\t  Prob:      {p_f2:+.4g}\")\n",
    "            if p_f2 > 0:\n",
    "                h_f1_given_f2 = _arr_entropy(joint[:, i] / p_f2)\n",
    "                print(f\"\\t  H(X1|X2):  {h_f1_given_f2:+.4g} bits\")\n",
    "                print(f\"\\t  Info gain: {marginal_entropy - h_f1_given_f2:+.4g} bits\")\n",
    "                mi_contrib = (marginal_entropy - h_f1_given_f2) * p_f2\n",
    "            else:\n",
    "                print(\"\\t  Conditional entropy undefined for 0 probability event\")\n",
    "                mi_contrib = 0\n",
    "            mi_contribs.append(mi_contrib)\n",
    "    return MI_value"
   ]
  },
  {
   "cell_type": "markdown",
   "id": "4845a2a7-7c03-4e01-8417-fcd2beb2f3e6",
   "metadata": {},
   "source": [
    "### Scenario 1: which variables produce most information about the value of a dice\n",
    "\n",
    "We will look at the MI between $N$ and various other variables $X$."
   ]
  },
  {
   "cell_type": "code",
   "execution_count": 6,
   "id": "945dee8d-0eb1-42e5-889c-759fdf0664ed",
   "metadata": {},
   "outputs": [
    {
     "name": "stdout",
     "output_type": "stream",
     "text": [
      "MI between dice value and itself:          4.32\n",
      "MI between dice value and even/odd:        1\n",
      "MI between dice value and prime/not prime: 0.971\n",
      "MI between dice value and constant:        0\n",
      "MI between dice value and other dice:      0\n"
     ]
    }
   ],
   "source": [
    "def dice_value(n):\n",
    "    return {n: 1.0}\n",
    "print(f\"MI between dice value and itself:          {dice_mutual_information(dice_value, dice_value):.3g}\")\n",
    "print(f\"MI between dice value and even/odd:        {dice_mutual_information(dice_value, lambda n: {is_even(n): 1.0}):.3g}\")\n",
    "print(f\"MI between dice value and prime/not prime: {dice_mutual_information(dice_value, lambda n: {is_prime(n): 1.0}):.3g}\")\n",
    "print(f\"MI between dice value and constant:        {dice_mutual_information(dice_value, lambda n: {\"A\": 1.0}):.3g}\")\n",
    "print(f\"MI between dice value and other dice:      {dice_mutual_information(dice_value, lambda n: {m: 1/len(DICE_OUTCOMES) for m in DICE_OUTCOMES}):.3g}\")"
   ]
  },
  {
   "cell_type": "markdown",
   "id": "3f7bf87f-9663-41ea-9014-bc1ef9f4f419",
   "metadata": {},
   "source": [
    "Perhaps unsurprisingly, observing the value of the dice gives the most information about the value of the dice (and the mutual information of a variable with itself always equals the entropy).\n",
    "Observing whether it is even or odd gives 1 bit of information.\n",
    "Observing whether it is prime gives slightly less information.\n",
    "Observing a constant gives no information.\n",
    "Observing the roll of another dice also gives no information (since the probability distribution of outcomes is the same no matter what).\n",
    "\n",
    "Now we will examine the question posed at the start of this post: how much information does \"true value with probability p, random value with (1-p)\" give?\n",
    "Even though this is a random quantity, by Bayesian inference it will always result in a non-uniform distribution of belief over dice values, which will always have less entropy than a uniform distribuion.\n",
    "The plot below compares this strategy to asking whether the dice is even or odd:"
   ]
  },
  {
   "cell_type": "code",
   "execution_count": 7,
   "id": "1502d888-9514-4b2c-aae5-db4629041c7b",
   "metadata": {},
   "outputs": [
    {
     "data": {
      "image/png": "[encoded data removed]",
      "text/plain": [
       "<Figure size 640x480 with 1 Axes>"
      ]
     },
     "metadata": {},
     "output_type": "display_data"
    }
   ],
   "source": [
    "def show_value_with_prob_p(n, p):\n",
    "    outcomes = {m: (1-p)/len(DICE_OUTCOMES) for m in DICE_OUTCOMES}\n",
    "    outcomes[n] += p\n",
    "    return outcomes\n",
    "\n",
    "p_arr = np.linspace(0, 1, 80)\n",
    "plt.plot(\n",
    "    p_arr,\n",
    "    [dice_mutual_information(dice_value, lambda n: show_value_with_prob_p(n, p)) for p in p_arr],\n",
    "    \".-\",\n",
    ")\n",
    "plt.xlabel(\"p\")\n",
    "plt.ylabel(\"Mutual information\")\n",
    "plt.title(\"Mutual information between dice value and random reveal\\nas function of reveal probability p\")\n",
    "plt.axhline(1, linestyle=\"--\", color=\"orange\", label=\"MI of even/odd\")\n",
    "p095_val = dice_mutual_information(dice_value, lambda n: show_value_with_prob_p(n, 0.95))\n",
    "plt.axhline(p095_val, linestyle=\"--\", color=\"black\", label=f\"p=0.95 (MI={p095_val:.3g})\")\n",
    "plt.legend()\n",
    "plt.show()"
   ]
  },
  {
   "cell_type": "markdown",
   "id": "fcc92eb7-a659-4bcb-ae33-857ceda1a88f",
   "metadata": {},
   "source": [
    "So, the answer to the question from the beginning of the post is that learning the dice value with 95% probability provides _dramatically_ more information than whether it is even or odd.\n",
    "In fact, even if you only learned the dice value with _50%_ probability it would still give more."
   ]
  },
  {
   "cell_type": "markdown",
   "id": "05fb9525-915e-4bb9-982c-48965fccfb2f",
   "metadata": {},
   "source": [
    "### Scenario 2: testing for extreme values\n",
    "\n",
    "A value will be considered \"extreme\" if N≤3 or N≥18. The probability of getting an extreme value\n",
    "is 6/20, so its entropy will be fairly low. Let's see how different observations inform us about extreme outcomes."
   ]
  },
  {
   "cell_type": "code",
   "execution_count": 8,
   "id": "0921025e-20de-40a9-b746-4dafeac49794",
   "metadata": {},
   "outputs": [
    {
     "name": "stdout",
     "output_type": "stream",
     "text": [
      "Entropy of extreme outcome:       0.881 bits\n",
      "\n",
      "MI from exact dice value:         0.881 bits\n",
      "\n",
      "MI from learning even/odd:        0 bits\n",
      "MI from learning prime/not prime: 0.0128 bits\n",
      "MI from learning ≤10:             0 bits\n",
      "\n",
      "MI from learning value ±1:        0.698 bits\n",
      "\n",
      "MI from learning value mod  3:    0.00162 bits\n",
      "MI from learning value mod  4:    0.0349 bits\n",
      "MI from learning value mod  5:    0.0323 bits\n",
      "MI from learning value mod  6:    0.206 bits\n",
      "MI from learning value mod  7:    0.0548 bits\n",
      "MI from learning value mod  8:    0.33 bits\n",
      "MI from learning value mod  9:    0.406 bits\n",
      "MI from learning value mod 10:    0.281 bits\n",
      "MI from learning value mod 11:    0.281 bits\n",
      "MI from learning value mod 12:    0.281 bits\n",
      "MI from learning value mod 13:    0.281 bits\n",
      "MI from learning value mod 14:    0.281 bits\n",
      "MI from learning value mod 15:    0.481 bits\n",
      "MI from learning value mod 16:    0.681 bits\n",
      "MI from learning value mod 17:    0.881 bits\n",
      "MI from learning value mod 18:    0.881 bits\n"
     ]
    }
   ],
   "source": [
    "def outcome_is_extreme(n):\n",
    "    is_extreme = n <= 3 or n >= 18\n",
    "    return {is_extreme: 1.0}\n",
    "\n",
    "print(f\"Entropy of extreme outcome:       {dice_mutual_information(outcome_is_extreme, outcome_is_extreme):.3g} bits\")\n",
    "print()\n",
    "print(f\"MI from exact dice value:         {dice_mutual_information(outcome_is_extreme, dice_value):.3g} bits\")\n",
    "print()\n",
    "print(f\"MI from learning even/odd:        {dice_mutual_information(outcome_is_extreme, lambda n: {is_even(n): 1.0}):.3g} bits\")\n",
    "print(f\"MI from learning prime/not prime: {dice_mutual_information(outcome_is_extreme, lambda n: {is_prime(n): 1.0}):.3g} bits\")\n",
    "print(f\"MI from learning ≤10:             {dice_mutual_information(outcome_is_extreme, lambda n: {n <= 10: 1.0}):.3g} bits\")\n",
    "\n",
    "\n",
    "def random_plus_minus_1(n):\n",
    "    out = {n: 1/3, (n+1) % D: 1/3, (n-1) % D: 1/3}\n",
    "\n",
    "    # Handle wrap-around case well\n",
    "    if 0 in out:\n",
    "        out[D] = out[0]\n",
    "        del out[0]\n",
    "    return out\n",
    "\n",
    "print()\n",
    "print(f\"MI from learning value ±1:        {dice_mutual_information(outcome_is_extreme, random_plus_minus_1):.3g} bits\")\n",
    "\n",
    "print()\n",
    "for m in range(3, 19):\n",
    "    \n",
    "    print(f\"MI from learning value mod {m:>2d}:    {dice_mutual_information(outcome_is_extreme, lambda n: {n%m: 1.0}):.3g} bits\")"
   ]
  },
  {
   "cell_type": "markdown",
   "id": "1ba08700-cd3b-4644-b710-040cc295463e",
   "metadata": {},
   "source": [
    "This variable has much lower entropy than the dice value itself (≈0.9 bits instead of ≈4.3).\n",
    "Of course, learning the dice value also tells you whether it is extreme.\n",
    "\n",
    "Interestingly, while learning even/odd and prime/not prime gave ≈1 bit of information for the dice value,\n",
    "they give almost no information about whether the value is extreme. Why is this?\n",
    "In both cases, it is because the ratio of extreme : non-extreme values is similar regardless of the outcome.\n",
    "For even:odd exactly 3:7 values are extreme for both even or odd numbers.\n",
    "3/8 primes are extreme values while 3/12 non-primes are exteme.\n",
    "Learning whether N≤10 is the same.\n",
    "\n",
    "A noisy measurement of the dice value which has a 1/3 chance of being 1 too high and 1/3 chance of being 1 too low also provides almost all information:\n",
    "this is not surprising, since only values of 3, 4, 17 or 18 will be uncertain.\n",
    "\n",
    "Finally, modulo provides a lot of information depending on the modulo value.\n",
    "Any value above 17 provides complete information (which should be clear if you think about it).\n",
    "Intermediate values provide an intermediate value of information.\n",
    "9 is an interesting local optimum which provides more value than learning the value mod 8 or mod 10.\n",
    "Let's look into it with the `explain=True` kwarg:"
   ]
  },
  {
   "cell_type": "code",
   "execution_count": 9,
   "id": "b27d8c16-12fe-4ae3-a26d-83432972deaa",
   "metadata": {},
   "outputs": [
    {
     "name": "stdout",
     "output_type": "stream",
     "text": [
      "Entropy of X1: 0.8813 bits\n",
      "\tCase X2=0:\n",
      "\t  Prob:      +0.1\n",
      "\t  H(X1|X2):  +1 bits\n",
      "\t  Info gain: -0.1187 bits\n",
      "\tCase X2=1:\n",
      "\t  Prob:      +0.15\n",
      "\t  H(X1|X2):  +0.9183 bits\n",
      "\t  Info gain: -0.037 bits\n",
      "\tCase X2=2:\n",
      "\t  Prob:      +0.15\n",
      "\t  H(X1|X2):  +0.9183 bits\n",
      "\t  Info gain: -0.037 bits\n",
      "\tCase X2=3:\n",
      "\t  Prob:      +0.1\n",
      "\t  H(X1|X2):  +1 bits\n",
      "\t  Info gain: -0.1187 bits\n",
      "\tCase X2=4:\n",
      "\t  Prob:      +0.1\n",
      "\t  H(X1|X2):  +0 bits\n",
      "\t  Info gain: +0.8813 bits\n",
      "\tCase X2=5:\n",
      "\t  Prob:      +0.1\n",
      "\t  H(X1|X2):  +0 bits\n",
      "\t  Info gain: +0.8813 bits\n",
      "\tCase X2=6:\n",
      "\t  Prob:      +0.1\n",
      "\t  H(X1|X2):  +0 bits\n",
      "\t  Info gain: +0.8813 bits\n",
      "\tCase X2=7:\n",
      "\t  Prob:      +0.1\n",
      "\t  H(X1|X2):  +0 bits\n",
      "\t  Info gain: +0.8813 bits\n",
      "\tCase X2=8:\n",
      "\t  Prob:      +0.1\n",
      "\t  H(X1|X2):  +0 bits\n",
      "\t  Info gain: +0.8813 bits\n"
     ]
    },
    {
     "data": {
      "text/plain": [
       "0.40580214901434575"
      ]
     },
     "execution_count": 9,
     "metadata": {},
     "output_type": "execute_result"
    }
   ],
   "source": [
    "dice_mutual_information(outcome_is_extreme, lambda n: {n%9: 1.0}, explain=True)"
   ]
  },
  {
   "cell_type": "markdown",
   "id": "4f024c0b-6afc-460c-9e91-39d3d82188ff",
   "metadata": {},
   "source": [
    "Here, 5/9 values (cumulative probability 0.5) completely rule out any extreme value.\n",
    "The other values (0 to 4) slightly _increase_ the probability of a value being extreme, but overall the information gain works out to be large."
   ]
  },
  {
   "cell_type": "markdown",
   "id": "632fc6a8-1efd-4bef-b239-872f8e30195d",
   "metadata": {},
   "source": [
    "### Scenario 3: multi-stage tests\n",
    "\n",
    "We will still try to determine whether a value is \"extreme\". However, instead of doing a single test, we will now perform a _series_ of tests,\n",
    "represented by tuple values in code."
   ]
  },
  {
   "cell_type": "code",
   "execution_count": 10,
   "id": "f1eabbde-8d14-4a73-9817-78053a352e9f",
   "metadata": {},
   "outputs": [
    {
     "name": "stdout",
     "output_type": "stream",
     "text": [
      "Entropy of extreme outcome: 0.881 bits\n",
      "\n",
      "MI of even/odd AND ≤10:     0.0349 bits\n",
      "MI of n%5 and n%6:          0.881 bits\n",
      "MI of n%3 and random ±1:    0.881 bits\n"
     ]
    }
   ],
   "source": [
    "print(f\"Entropy of extreme outcome: {dice_mutual_information(outcome_is_extreme, outcome_is_extreme):.3g} bits\")\n",
    "print()\n",
    "print(f\"MI of even/odd AND ≤10:     {dice_mutual_information(outcome_is_extreme, lambda n: {(n <= 10, is_even(n)): 1.0}):.3g} bits\")\n",
    "print(f\"MI of n%5 and n%6:          {dice_mutual_information(outcome_is_extreme, lambda n: {(n%5, n%6): 1.0}):.3g} bits\")\n",
    "print(f\"MI of n%3 and random ±1:    {dice_mutual_information(outcome_is_extreme, lambda n: {(n%3, k): v for k, v in random_plus_minus_1(n).items()}):.3g} bits\")"
   ]
  },
  {
   "cell_type": "markdown",
   "id": "62e07ee0-bf0e-417a-beda-5ffdb306bde2",
   "metadata": {},
   "source": [
    "All of these cases show that information is _non-additive_. The most obvious case is learning even/odd and ≤10.\n",
    "Independently these both give ZERO information (shown in the previous subsection).\n",
    "However, together they provide a small amount of information.\n",
    "This is just because of the relative ratios of different outcomes changes.\n",
    "To give an example, if the outcome `False, False` is observed,\n",
    "the only extreme value is 19, whereas the non-extreme values are 11, 13, 15, 17.\n",
    "The ratio of extreme values changes from 3/10 to 1/5, thereby providing an information gain.\n",
    "The full table of outcomes is below."
   ]
  },
  {
   "cell_type": "code",
   "execution_count": 11,
   "id": "6bdd1b73-7e5e-4ef0-be75-28f4a79b66df",
   "metadata": {},
   "outputs": [
    {
     "name": "stdout",
     "output_type": "stream",
     "text": [
      "Entropy of X1: 0.8813 bits\n",
      "\tCase X2=(False, False):\n",
      "\t  Prob:      +0.25\n",
      "\t  H(X1|X2):  +0.7219 bits\n",
      "\t  Info gain: +0.1594 bits\n",
      "\tCase X2=(False, True):\n",
      "\t  Prob:      +0.25\n",
      "\t  H(X1|X2):  +0.971 bits\n",
      "\t  Info gain: -0.08966 bits\n",
      "\tCase X2=(True, False):\n",
      "\t  Prob:      +0.25\n",
      "\t  H(X1|X2):  +0.971 bits\n",
      "\t  Info gain: -0.08966 bits\n",
      "\tCase X2=(True, True):\n",
      "\t  Prob:      +0.25\n",
      "\t  H(X1|X2):  +0.7219 bits\n",
      "\t  Info gain: +0.1594 bits\n"
     ]
    },
    {
     "data": {
      "text/plain": [
       "0.034851554559677346"
      ]
     },
     "execution_count": 11,
     "metadata": {},
     "output_type": "execute_result"
    }
   ],
   "source": [
    "dice_mutual_information(outcome_is_extreme, lambda n: {(n <= 10, is_even(n)): 1.0}, explain=True)"
   ]
  },
  {
   "cell_type": "markdown",
   "id": "976e89d6-310a-4bb7-a8df-cabf1c330b52",
   "metadata": {},
   "source": [
    "The last two examples show non-additivity. Firstly, even though learning n%5 and n%6 provides only\n",
    "0.0323 bits and 0.206 bits respectively,\n",
    "when observed together the number can be completely deduced.\n",
    "This is because all numbers in 1 to 20 have a unique (n%5, n%6) tuple.\n",
    "Similarly, even though n%3 provides only 0.00162 bits,\n",
    "when combined with the noisy ±1 measurement it completely disambiguates the \"boundary\"\n",
    "measurements of 3, 4, 17, and 18.\n",
    "\n",
    "## Conclusion\n",
    "\n",
    "This is the end of the tutorial, but please do play around with the notebook and write your own functions!"
   ]
  }
 ],
 "metadata": {
  "kernelspec": {
   "display_name": "Python 3 (ipykernel)",
   "language": "python",
   "name": "python3"
  },
  "language_info": {
   "codemirror_mode": {
    "name": "ipython",
    "version": 3
   },
   "file_extension": ".py",
   "mimetype": "text/x-python",
   "name": "python",
   "nbconvert_exporter": "python",
   "pygments_lexer": "ipython3",
   "version": "3.13.0"
  },
  "nikola": {
   "date": "2025-08-10",
   "has_math": true,
   "tags": [
    "machine learning",
    "statistics"
   ],
   "title": "An accessible introduction to mutual information using a d20"
  }
 },
 "nbformat": 4,
 "nbformat_minor": 5
}
